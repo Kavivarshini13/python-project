{
 "cells": [
  {
   "cell_type": "code",
   "execution_count": 21,
   "id": "126e3b7e-58c7-4a17-a800-b51c651ee674",
   "metadata": {},
   "outputs": [
    {
     "name": "stdout",
     "output_type": "stream",
     "text": [
      "Grade 88 has been added for Alice Green.\n",
      "Grade 72 has been added for Alice Green.\n",
      "Grade 58 has been added for Bob Brown.\n",
      "Grade 45 has been added for Bob Brown.\n",
      "Alice Green - Grades: [88, 72], Average: 80.00 (Passed)\n",
      "\n",
      "Grade Reports:\n",
      "Alice Green - Grades: [88, 72], Average: 80.00 (Passed)\n",
      "Bob Brown - Grades: [58, 45], Average: 51.50 (Passed)\n"
     ]
    }
   ],
   "source": [
    "import grade_manager as gm\n",
    "\n",
    "def main():\n",
    "    grade_manager = gm.GradeManager()\n",
    "\n",
    "    grade_manager.add_student(\"Alice Green\")\n",
    "    grade_manager.add_student(\"Bob Brown\")\n",
    "\n",
    "    grade_manager.add_student_grade(\"Alice Green\", 88)\n",
    "    grade_manager.add_student_grade(\"Alice Green\", 72)\n",
    "    grade_manager.add_student_grade(\"Bob Brown\", 58)\n",
    "    grade_manager.add_student_grade(\"Bob Brown\", 45)\n",
    "\n",
    "    grade_manager.get_student_report(\"Alice Green\")\n",
    "\n",
    "    grade_manager.get_all_reports()\n",
    "\n",
    "if __name__ == \"__main__\":\n",
    "    main()"
   ]
  },
  {
   "cell_type": "code",
   "execution_count": null,
   "id": "0ef3dbed-ca60-4cf1-8dab-50f3f068cbbc",
   "metadata": {},
   "outputs": [],
   "source": []
  }
 ],
 "metadata": {
  "kernelspec": {
   "display_name": "Python 3 (ipykernel)",
   "language": "python",
   "name": "python3"
  },
  "language_info": {
   "codemirror_mode": {
    "name": "ipython",
    "version": 3
   },
   "file_extension": ".py",
   "mimetype": "text/x-python",
   "name": "python",
   "nbconvert_exporter": "python",
   "pygments_lexer": "ipython3",
   "version": "3.12.4"
  }
 },
 "nbformat": 4,
 "nbformat_minor": 5
}
